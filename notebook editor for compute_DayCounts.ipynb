{
 "cells": [
  {
   "cell_type": "code",
   "execution_count": 19,
   "metadata": {},
   "outputs": [],
   "source": [
    "# -*- coding: utf-8 -*-\n",
    "import dataiku\n",
    "import pandas as pd, numpy as np\n",
    "from dataiku import pandasutils as pdu\n",
    "import holidays\n",
    "from functions import business_days_between_dates"
   ]
  },
  {
   "cell_type": "code",
   "execution_count": 20,
   "metadata": {},
   "outputs": [],
   "source": [
    "# Read recipe inputs\n",
    "InputData_prep = dataiku.Dataset(\"InputData_prep\")\n",
    "df = InputData_prep.get_dataframe()"
   ]
  },
  {
   "cell_type": "code",
   "execution_count": 34,
   "metadata": {},
   "outputs": [],
   "source": [
    "# Function to calculate business days between two dates, excluding weekends and holidays\n",
    "def business_days_between_dates(start_date, end_date):\n",
    "    # Ensure the dates are in datetime format\n",
    "    start_date = pd.to_datetime(start_date, errors='coerce')\n",
    "    end_date = pd.to_datetime(end_date, errors='coerce')\n",
    "    \n",
    "    # Check if either date is invalid, return 0 if so\n",
    "    if pd.isna(start_date) or pd.isna(end_date):\n",
    "        return 0\n",
    "    \n",
    "    # Generate a date range from start_date to end_date\n",
    "    date_range = pd.date_range(start=start_date, end=end_date)\n",
    "    \n",
    "    # Filter out weekends (Saturday=5, Sunday=6)\n",
    "    weekdays = date_range[~date_range.weekday.isin([5, 6])]\n",
    "    \n",
    "    # Get US holidays for the year of the start date\n",
    "    us_holidays = holidays.US(years=start_date.year)\n",
    "    \n",
    "    # Convert the holidays keys (dates) to a pandas DatetimeIndex\n",
    "    holiday_dates = pd.to_datetime(list(us_holidays.keys()))\n",
    "    \n",
    "    # Print the holidays for debugging purposes\n",
    "    for date in holiday_dates:\n",
    "        print(f\"Holiday: {date}\")\n",
    "    \n",
    "    # Remove the timezone from weekdays for comparison\n",
    "    weekdays_naive = weekdays.tz_localize(None)\n",
    "    \n",
    "    # Filter out holidays (convert holidays to naive datetime as well)\n",
    "    weekdays_without_holidays = weekdays_naive[~weekdays_naive.isin(holiday_dates)]\n",
    "    \n",
    "    # Return the number of weekdays excluding weekends and holidays\n",
    "    return len(weekdays_without_holidays)"
   ]
  },
  {
   "cell_type": "code",
   "execution_count": 22,
   "metadata": {},
   "outputs": [
    {
     "name": "stdout",
     "output_type": "stream",
     "text": [
      "Start Date: 2024-10-01 00:00:00+00:00, End Date: 2024-10-14 00:00:00+00:00, Business Days: 10\n"
     ]
    }
   ],
   "source": [
    "# Apply the function to calculate business days between 'Cash Start Date' and 'First Nearby Expiration'\n",
    "def calculate_and_print_business_days(row):\n",
    "    start_date = row['Cash Start Date']\n",
    "    end_date = row['First Nearby Expiration']\n",
    "\n",
    "    # Calculate the business days excluding weekends and holidays\n",
    "    business_days = business_days_between_dates(start_date, end_date)\n",
    "\n",
    "    # Print the result for this row\n",
    "    print(f\"Start Date: {start_date}, End Date: {end_date}, Business Days: {business_days}\")\n",
    "\n",
    "    return business_days\n",
    "\n",
    "# Apply the function to each row and store the result in a new column\n",
    "df['first_contract_days'] = df.apply(lambda row: calculate_and_print_business_days(row), axis=1)"
   ]
  },
  {
   "cell_type": "code",
   "execution_count": 35,
   "metadata": {},
   "outputs": [
    {
     "name": "stdout",
     "output_type": "stream",
     "text": [
      "Holiday: 2024-01-01 00:00:00\n",
      "Holiday: 2024-05-27 00:00:00\n",
      "Holiday: 2024-06-19 00:00:00\n",
      "Holiday: 2024-07-04 00:00:00\n",
      "Holiday: 2024-09-02 00:00:00\n",
      "Holiday: 2024-11-11 00:00:00\n",
      "Holiday: 2024-11-28 00:00:00\n",
      "Holiday: 2024-12-25 00:00:00\n",
      "Holiday: 2024-01-15 00:00:00\n",
      "Holiday: 2024-02-19 00:00:00\n",
      "Holiday: 2024-10-14 00:00:00\n",
      "Start Date: 2024-10-15 00:00:00+00:00, End Date: 2024-11-30 00:00:00+00:00, Business Days: 32\n"
     ]
    }
   ],
   "source": [
    "# Apply the function to calculate business days between 'Cash Start Date' and 'First Nearby Expiration'\n",
    "def calculate_and_print_business_days(row):\n",
    "    start_date = row[\"First Nearby Expiration\"]\n",
    "    end_date = row['Cash End Date']\n",
    "\n",
    "    # Add one day to the \"First Nearby Expiration\" date\n",
    "    start_date = pd.to_datetime(start_date) + pd.Timedelta(days=1)\n",
    "\n",
    "    # Calculate the business days excluding weekends and holidays\n",
    "    business_days = business_days_between_dates(start_date, end_date)\n",
    "\n",
    "    # Print the result for this row\n",
    "    print(f\"Start Date: {start_date}, End Date: {end_date}, Business Days: {business_days}\")\n",
    "\n",
    "    return business_days\n",
    "\n",
    "# Apply the function to each row and store the result in a new column\n",
    "df['second_contract_days'] = df.apply(lambda row: calculate_and_print_business_days(row), axis=1)"
   ]
  },
  {
   "cell_type": "code",
   "execution_count": 0,
   "metadata": {},
   "outputs": [],
   "source": [
    "# Write recipe outputs\n",
    "DayCounts = dataiku.Dataset(\"DayCounts\")\n",
    "DayCounts.write_with_schema(df)"
   ]
  }
 ],
 "metadata": {
  "associatedRecipe": "compute_DayCounts",
  "createdOn": 1738536793327,
  "creationTag": {
   "lastModifiedBy": {
    "login": "kirsten.hoogenakker@dataiku.com"
   },
   "lastModifiedOn": 1738536793327,
   "versionNumber": 0
  },
  "creator": "kirsten.hoogenakker@dataiku.com",
  "customFields": {},
  "dkuGit": {
   "lastInteraction": 0
  },
  "hide_input": false,
  "kernelspec": {
   "display_name": "Python (env python38)",
   "language": "python",
   "name": "py-dku-venv-python38"
  },
  "language_info": {
   "codemirror_mode": {
    "name": "ipython",
    "version": 3
   },
   "file_extension": ".py",
   "mimetype": "text/x-python",
   "name": "python",
   "nbconvert_exporter": "python",
   "pygments_lexer": "ipython3",
   "version": "3.8.20"
  },
  "modifiedBy": "kirsten.hoogenakker@dataiku.com",
  "tags": [
   "recipe-editor"
  ]
 },
 "nbformat": 4,
 "nbformat_minor": 1
}
